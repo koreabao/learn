{
  "nbformat": 4,
  "nbformat_minor": 0,
  "metadata": {
    "colab": {
      "name": "py1_1.ipynb",
      "provenance": [],
      "authorship_tag": "ABX9TyMpLKmFfeLWrM54iJ5NGZGq",
      "include_colab_link": true
    },
    "kernelspec": {
      "name": "python3",
      "display_name": "Python 3"
    },
    "language_info": {
      "name": "python"
    }
  },
  "cells": [
    {
      "cell_type": "markdown",
      "metadata": {
        "id": "view-in-github",
        "colab_type": "text"
      },
      "source": [
        "<a href=\"https://colab.research.google.com/github/koreabao/learn_python/blob/main/py1_1.ipynb\" target=\"_parent\"><img src=\"https://colab.research.google.com/assets/colab-badge.svg\" alt=\"Open In Colab\"/></a>"
      ]
    },
    {
      "cell_type": "markdown",
      "source": [
        "첫째날"
      ],
      "metadata": {
        "id": "c-gbDG2yqdDL"
      }
    },
    {
      "cell_type": "code",
      "source": [
        "5+3 "
      ],
      "metadata": {
        "colab": {
          "base_uri": "https://localhost:8080/"
        },
        "id": "yccOp5ROrlpz",
        "outputId": "9f868d06-a254-4aeb-db0a-1adefd8017bf"
      },
      "execution_count": 4,
      "outputs": [
        {
          "output_type": "execute_result",
          "data": {
            "text/plain": [
              "8"
            ]
          },
          "metadata": {},
          "execution_count": 4
        }
      ]
    },
    {
      "cell_type": "code",
      "source": [
        "5-3"
      ],
      "metadata": {
        "colab": {
          "base_uri": "https://localhost:8080/"
        },
        "id": "QViDGcJRrlsR",
        "outputId": "558e4347-07a7-452a-8594-bca278cd7d41"
      },
      "execution_count": 5,
      "outputs": [
        {
          "output_type": "execute_result",
          "data": {
            "text/plain": [
              "2"
            ]
          },
          "metadata": {},
          "execution_count": 5
        }
      ]
    },
    {
      "cell_type": "code",
      "source": [
        "5*3"
      ],
      "metadata": {
        "colab": {
          "base_uri": "https://localhost:8080/"
        },
        "id": "VK8CFm_Zrlvg",
        "outputId": "e40e9bb1-2c6c-4695-c271-ebaf6023d594"
      },
      "execution_count": 6,
      "outputs": [
        {
          "output_type": "execute_result",
          "data": {
            "text/plain": [
              "15"
            ]
          },
          "metadata": {},
          "execution_count": 6
        }
      ]
    },
    {
      "cell_type": "code",
      "source": [
        "5**3"
      ],
      "metadata": {
        "colab": {
          "base_uri": "https://localhost:8080/"
        },
        "id": "w5s016ECrlyh",
        "outputId": "34158ff2-88e4-4f25-f3fd-5132d702d681"
      },
      "execution_count": 7,
      "outputs": [
        {
          "output_type": "execute_result",
          "data": {
            "text/plain": [
              "125"
            ]
          },
          "metadata": {},
          "execution_count": 7
        }
      ]
    },
    {
      "cell_type": "code",
      "source": [
        "5/3"
      ],
      "metadata": {
        "colab": {
          "base_uri": "https://localhost:8080/"
        },
        "id": "E3Pft_eKrvdY",
        "outputId": "d305a502-d33a-4bcf-9431-8404ed3b69f2"
      },
      "execution_count": 8,
      "outputs": [
        {
          "output_type": "execute_result",
          "data": {
            "text/plain": [
              "1.6666666666666667"
            ]
          },
          "metadata": {},
          "execution_count": 8
        }
      ]
    },
    {
      "cell_type": "code",
      "execution_count": 9,
      "metadata": {
        "colab": {
          "base_uri": "https://localhost:8080/"
        },
        "id": "McXSfF25p4aw",
        "outputId": "326eb408-207b-48df-f6b9-2395f12fff25"
      },
      "outputs": [
        {
          "output_type": "stream",
          "name": "stdout",
          "text": [
            "Hello Python world\n"
          ]
        }
      ],
      "source": [
        "print(\"Hello Python world\")"
      ]
    },
    {
      "cell_type": "code",
      "source": [
        "print(\"코랩실습환경설정완료\")"
      ],
      "metadata": {
        "colab": {
          "base_uri": "https://localhost:8080/"
        },
        "id": "FzpCJD-srzwW",
        "outputId": "088f2182-eaa3-42b6-df14-3da5cd48bea0"
      },
      "execution_count": 10,
      "outputs": [
        {
          "output_type": "stream",
          "name": "stdout",
          "text": [
            "코랩실습환경설정완료\n"
          ]
        }
      ]
    },
    {
      "cell_type": "code",
      "source": [
        "print('코랩실습환경설정완료')"
      ],
      "metadata": {
        "colab": {
          "base_uri": "https://localhost:8080/"
        },
        "id": "G13QApXUrzzC",
        "outputId": "7bb98644-0bb6-4524-c7ad-7bdc319334cb"
      },
      "execution_count": 11,
      "outputs": [
        {
          "output_type": "stream",
          "name": "stdout",
          "text": [
            "코랩실습환경설정완료\n"
          ]
        }
      ]
    },
    {
      "cell_type": "markdown",
      "source": [
        "변수(variable): 컴퓨터에데이터가저장되는메모리공간의위치\n"
      ],
      "metadata": {
        "id": "7KhWLzk0sXOZ"
      }
    },
    {
      "cell_type": "code",
      "source": [
        "a = 30"
      ],
      "metadata": {
        "id": "f9-cMoGrrz1p"
      },
      "execution_count": 11,
      "outputs": []
    },
    {
      "cell_type": "markdown",
      "source": [
        "변수 a에 30을 정장, 즉, 변수a가 가리키는 메모리 공간에 30을 저장한다.  "
      ],
      "metadata": {
        "id": "vvN7fHJO6nmP"
      }
    },
    {
      "cell_type": "code",
      "source": [
        "message = \"hello Python world\"\n",
        "print(\"message\")"
      ],
      "metadata": {
        "id": "bYCgYkj8rz4W"
      },
      "execution_count": 11,
      "outputs": []
    },
    {
      "cell_type": "code",
      "source": [
        ""
      ],
      "metadata": {
        "id": "r6yhA3pHrz66"
      },
      "execution_count": 11,
      "outputs": []
    },
    {
      "cell_type": "code",
      "source": [
        ""
      ],
      "metadata": {
        "id": "M-6GFYnBrz9S"
      },
      "execution_count": 11,
      "outputs": []
    }
  ]
}