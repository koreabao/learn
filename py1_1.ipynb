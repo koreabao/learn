{
  "nbformat": 4,
  "nbformat_minor": 0,
  "metadata": {
    "colab": {
      "name": "py1_1.ipynb",
      "provenance": [],
      "authorship_tag": "ABX9TyPyuoNtzvLc5Jh1dWV+Jgec",
      "include_colab_link": true
    },
    "kernelspec": {
      "name": "python3",
      "display_name": "Python 3"
    },
    "language_info": {
      "name": "python"
    }
  },
  "cells": [
    {
      "cell_type": "markdown",
      "metadata": {
        "id": "view-in-github",
        "colab_type": "text"
      },
      "source": [
        "<a href=\"https://colab.research.google.com/github/koreabao/learn_python/blob/main/py1_1.ipynb\" target=\"_parent\"><img src=\"https://colab.research.google.com/assets/colab-badge.svg\" alt=\"Open In Colab\"/></a>"
      ]
    },
    {
      "cell_type": "markdown",
      "source": [
        "첫째날"
      ],
      "metadata": {
        "id": "c-gbDG2yqdDL"
      }
    },
    {
      "cell_type": "code",
      "source": [
        "5+3 "
      ],
      "metadata": {
        "id": "yccOp5ROrlpz"
      },
      "execution_count": null,
      "outputs": []
    },
    {
      "cell_type": "code",
      "source": [
        "5-3"
      ],
      "metadata": {
        "id": "QViDGcJRrlsR"
      },
      "execution_count": null,
      "outputs": []
    },
    {
      "cell_type": "code",
      "source": [
        "5*3"
      ],
      "metadata": {
        "id": "VK8CFm_Zrlvg"
      },
      "execution_count": null,
      "outputs": []
    },
    {
      "cell_type": "code",
      "source": [
        "5**3"
      ],
      "metadata": {
        "id": "w5s016ECrlyh"
      },
      "execution_count": null,
      "outputs": []
    },
    {
      "cell_type": "code",
      "source": [
        "5/3"
      ],
      "metadata": {
        "id": "E3Pft_eKrvdY"
      },
      "execution_count": null,
      "outputs": []
    },
    {
      "cell_type": "code",
      "execution_count": 3,
      "metadata": {
        "colab": {
          "base_uri": "https://localhost:8080/"
        },
        "id": "McXSfF25p4aw",
        "outputId": "196f2950-7681-407b-8c82-e0f25a4f6418"
      },
      "outputs": [
        {
          "output_type": "stream",
          "name": "stdout",
          "text": [
            "Hello Python world\n"
          ]
        }
      ],
      "source": [
        "print(\"Hello Python world\")"
      ]
    },
    {
      "cell_type": "code",
      "source": [
        "print(\"코랩실습환경설정완료\")"
      ],
      "metadata": {
        "id": "FzpCJD-srzwW"
      },
      "execution_count": null,
      "outputs": []
    },
    {
      "cell_type": "code",
      "source": [
        "print('코랩실습환경설정완료')"
      ],
      "metadata": {
        "id": "G13QApXUrzzC"
      },
      "execution_count": null,
      "outputs": []
    },
    {
      "cell_type": "code",
      "source": [
        ""
      ],
      "metadata": {
        "id": "f9-cMoGrrz1p"
      },
      "execution_count": null,
      "outputs": []
    },
    {
      "cell_type": "code",
      "source": [
        ""
      ],
      "metadata": {
        "id": "bYCgYkj8rz4W"
      },
      "execution_count": null,
      "outputs": []
    },
    {
      "cell_type": "code",
      "source": [
        ""
      ],
      "metadata": {
        "id": "r6yhA3pHrz66"
      },
      "execution_count": null,
      "outputs": []
    },
    {
      "cell_type": "code",
      "source": [
        ""
      ],
      "metadata": {
        "id": "M-6GFYnBrz9S"
      },
      "execution_count": null,
      "outputs": []
    }
  ]
}